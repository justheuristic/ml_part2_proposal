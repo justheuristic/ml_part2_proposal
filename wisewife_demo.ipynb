{
  "nbformat": 4,
  "nbformat_minor": 0,
  "metadata": {
    "colab": {
      "name": "Copy of wisewife_demo",
      "version": "0.3.2",
      "provenance": [],
      "collapsed_sections": []
    },
    "kernelspec": {
      "name": "python2",
      "display_name": "Python 2"
    }
  },
  "cells": [
    {
      "metadata": {
        "id": "KA0WBuczgYjl",
        "colab_type": "code",
        "colab": {}
      },
      "cell_type": "code",
      "source": [
        "# setup (this usually takes ~10 minutes for the whole process)\n",
        "!wget https://bit.ly/2CmuRln -O downloader.sh && bash downloader.sh\n",
        "import json, fastText, similator\n",
        "engine = similator.Similator(\n",
        "    lines=[goal for item in json.load(open(\"./items.json\")) for goal in item['plan']],\n",
        "    model=fastText.load_model(\"./wiki.ru.bin\"),\n",
        ")\n",
        "# when it finishes, go BELOW for usage example\n",
        "# VVVVVVVVVVVVVVVVVVVVVVVVVVVVVVVVVVVVVVVVVVVV"
      ],
      "execution_count": 0,
      "outputs": []
    },
    {
      "metadata": {
        "id": "OgGW8c-wgk3h",
        "colab_type": "code",
        "colab": {}
      },
      "cell_type": "code",
      "source": [
        "# everything in 0.5 radius; radius > 1.0 may return A LOT of data\n",
        "engine.find_nearest('заработать денег', radius=0.5) "
      ],
      "execution_count": 0,
      "outputs": []
    },
    {
      "metadata": {
        "id": "-vqUS6_IgpVm",
        "colab_type": "code",
        "colab": {}
      },
      "cell_type": "code",
      "source": [
        "# find top-10 queries regardless of answer\n",
        "engine.find_nearest('выучить', k=10) "
      ],
      "execution_count": 0,
      "outputs": []
    },
    {
      "metadata": {
        "id": "4YRKm-Kogrim",
        "colab_type": "code",
        "colab": {}
      },
      "cell_type": "code",
      "source": [
        "# save to google drive\n",
        "from google.colab import drive; drive.mount('/content/gdrive')\n",
        "!mkdir -p \"/content/gdrive/My Drive/saved_goals\"\n",
        "!wget https://bit.ly/2AddDFk -O save_to_drive.py\n",
        "from save_to_drive import save_to_drive"
      ],
      "execution_count": 0,
      "outputs": []
    },
    {
      "metadata": {
        "id": "BbyywYxvgywI",
        "colab_type": "code",
        "colab": {}
      },
      "cell_type": "code",
      "source": [
        "# 1. check what lines were found\n",
        "df = engine.find_nearest(\"купить\", k=10)\n",
        "df"
      ],
      "execution_count": 0,
      "outputs": []
    },
    {
      "metadata": {
        "id": "7cX8n3gOhbz2",
        "colab_type": "code",
        "colab": {}
      },
      "cell_type": "code",
      "source": [
        "# 2. save those lines (if file exists, adds new lines to it)\n",
        "save_to_drive('saved_goals/my_group1', df)"
      ],
      "execution_count": 0,
      "outputs": []
    }
  ]
}